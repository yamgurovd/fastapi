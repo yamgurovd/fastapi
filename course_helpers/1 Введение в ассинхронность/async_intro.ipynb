{
 "cells": [
  {
   "cell_type": "code",
   "execution_count": null,
   "id": "initial_id",
   "metadata": {
    "collapsed": true
   },
   "outputs": [],
   "source": [
    "import time\n",
    "import asyncio"
   ]
  },
  {
   "cell_type": "code",
   "execution_count": 1,
   "id": "1226c976091ae3a3",
   "metadata": {
    "ExecuteTime": {
     "end_time": "2024-12-19T19:47:57.741098Z",
     "start_time": "2024-12-19T19:47:57.737729Z"
    }
   },
   "outputs": [],
   "source": [
    "def get_data_from_database(query: str):\n",
    "    print(f\"Получен запрос: {query}\")\n",
    "    if query == \"Сочи\":\n",
    "        time.sleep(4)\n",
    "    elif query == \"Дубай\":\n",
    "        time.sleep(2)\n",
    "    print(f\"Данные получены: {query}\")"
   ]
  },
  {
   "cell_type": "code",
   "execution_count": 2,
   "id": "cae92d80059fedc1",
   "metadata": {
    "ExecuteTime": {
     "end_time": "2024-12-19T19:47:57.925608Z",
     "start_time": "2024-12-19T19:47:57.802831Z"
    }
   },
   "outputs": [
    {
     "name": "stdout",
     "output_type": "stream",
     "text": [
      "Получен запрос: Сочи\n"
     ]
    },
    {
     "ename": "NameError",
     "evalue": "name 'time' is not defined",
     "output_type": "error",
     "traceback": [
      "\u001b[0;31m---------------------------------------------------------------------------\u001b[0m",
      "\u001b[0;31mNameError\u001b[0m                                 Traceback (most recent call last)",
      "Cell \u001b[0;32mIn[2], line 1\u001b[0m\n\u001b[0;32m----> 1\u001b[0m \u001b[43mget_data_from_database\u001b[49m\u001b[43m(\u001b[49m\u001b[38;5;124;43m\"\u001b[39;49m\u001b[38;5;124;43mСочи\u001b[39;49m\u001b[38;5;124;43m\"\u001b[39;49m\u001b[43m)\u001b[49m\n\u001b[1;32m      2\u001b[0m get_data_from_database(\u001b[38;5;124m\"\u001b[39m\u001b[38;5;124mДубай\u001b[39m\u001b[38;5;124m\"\u001b[39m)\n",
      "Cell \u001b[0;32mIn[1], line 4\u001b[0m, in \u001b[0;36mget_data_from_database\u001b[0;34m(query)\u001b[0m\n\u001b[1;32m      2\u001b[0m \u001b[38;5;28mprint\u001b[39m(\u001b[38;5;124mf\u001b[39m\u001b[38;5;124m\"\u001b[39m\u001b[38;5;124mПолучен запрос: \u001b[39m\u001b[38;5;132;01m{\u001b[39;00mquery\u001b[38;5;132;01m}\u001b[39;00m\u001b[38;5;124m\"\u001b[39m)\n\u001b[1;32m      3\u001b[0m \u001b[38;5;28;01mif\u001b[39;00m query \u001b[38;5;241m==\u001b[39m \u001b[38;5;124m\"\u001b[39m\u001b[38;5;124mСочи\u001b[39m\u001b[38;5;124m\"\u001b[39m:\n\u001b[0;32m----> 4\u001b[0m     \u001b[43mtime\u001b[49m\u001b[38;5;241m.\u001b[39msleep(\u001b[38;5;241m4\u001b[39m)\n\u001b[1;32m      5\u001b[0m \u001b[38;5;28;01melif\u001b[39;00m query \u001b[38;5;241m==\u001b[39m \u001b[38;5;124m\"\u001b[39m\u001b[38;5;124mДубай\u001b[39m\u001b[38;5;124m\"\u001b[39m:\n\u001b[1;32m      6\u001b[0m     time\u001b[38;5;241m.\u001b[39msleep(\u001b[38;5;241m2\u001b[39m)\n",
      "\u001b[0;31mNameError\u001b[0m: name 'time' is not defined"
     ]
    }
   ],
   "source": [
    "get_data_from_database(\"Сочи\")\n",
    "get_data_from_database(\"Дубай\")"
   ]
  },
  {
   "cell_type": "code",
   "execution_count": null,
   "id": "8957cc35290b0b21",
   "metadata": {},
   "outputs": [],
   "source": [
    "async def get_data_from_database_async(query: str):\n",
    "    print(f\"Получен запрос: {query}\")\n",
    "    if query == \"Сочи\":\n",
    "        await asyncio.sleep(4)\n",
    "    elif query == \"Дубай\":\n",
    "        await asyncio.sleep(2)\n",
    "    print(f\"Данные получены: {query}\")\n",
    "    return \"Results\""
   ]
  },
  {
   "cell_type": "code",
   "execution_count": null,
   "id": "3eb63e61e716a1f7",
   "metadata": {},
   "outputs": [],
   "source": [
    "await get_data_from_database_async(\"Сочи\")\n",
    "await get_data_from_database_async(\"Дубай\")"
   ]
  },
  {
   "cell_type": "code",
   "execution_count": null,
   "id": "26c7ab71f7ac4a3d",
   "metadata": {},
   "outputs": [],
   "source": [
    "await asyncio.gather(\n",
    "    get_data_from_database_async(\"Сочи\"),\n",
    "    get_data_from_database_async(\"Сочи\"),\n",
    "    get_data_from_database_async(\"Сочи\"),\n",
    "    get_data_from_database_async(\"Сочи\"),\n",
    "    get_data_from_database_async(\"Сочи\"),\n",
    "    get_data_from_database_async(\"Сочи\"),\n",
    "    get_data_from_database_async(\"Дубай\"),\n",
    "    get_data_from_database_async(\"Дубай\"),\n",
    "    get_data_from_database_async(\"Дубай\"),\n",
    "    get_data_from_database_async(\"Дубай\"),\n",
    ")"
   ]
  },
  {
   "cell_type": "code",
   "execution_count": null,
   "id": "a189669bba479239",
   "metadata": {},
   "outputs": [],
   "source": [
    "task1 = asyncio.create_task(get_data_from_database_async(\"Сочи\"))\n",
    "task2 = asyncio.create_task(get_data_from_database_async(\"Дубай\"))"
   ]
  }
 ],
 "metadata": {
  "kernelspec": {
   "display_name": "Python 3",
   "language": "python",
   "name": "python3"
  },
  "language_info": {
   "codemirror_mode": {
    "name": "ipython",
    "version": 2
   },
   "file_extension": ".py",
   "mimetype": "text/x-python",
   "name": "python",
   "nbconvert_exporter": "python",
   "pygments_lexer": "ipython2",
   "version": "2.7.6"
  }
 },
 "nbformat": 4,
 "nbformat_minor": 5
}
