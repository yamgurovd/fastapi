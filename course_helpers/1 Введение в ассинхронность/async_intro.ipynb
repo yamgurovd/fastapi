{
 "cells": [
  {
   "cell_type": "code",
   "execution_count": null,
   "id": "initial_id",
   "metadata": {
    "collapsed": true
   },
   "outputs": [],
   "source": [
    "import time\n",
    "import asyncio"
   ]
  },
  {
   "metadata": {
    "ExecuteTime": {
     "end_time": "2024-12-19T19:47:57.741098Z",
     "start_time": "2024-12-19T19:47:57.737729Z"
    }
   },
   "cell_type": "code",
   "source": [
    "\n",
    "def get_data_from_database(query: str):\n",
    "    print(f\"Получен запрос: {query}\")\n",
    "    if query == \"Сочи\":\n",
    "        time.sleep(4)\n",
    "    elif query == \"Дубай\":\n",
    "        time.sleep(2)\n",
    "    print(f\"Данные получены: {query}\")"
   ],
   "id": "1226c976091ae3a3",
   "outputs": [],
   "execution_count": 1
  },
  {
   "metadata": {
    "ExecuteTime": {
     "end_time": "2024-12-19T19:47:57.925608Z",
     "start_time": "2024-12-19T19:47:57.802831Z"
    }
   },
   "cell_type": "code",
   "source": [
    "get_data_from_database(\"Сочи\")\n",
    "get_data_from_database(\"Дубай\")"
   ],
   "id": "cae92d80059fedc1",
   "outputs": [
    {
     "name": "stdout",
     "output_type": "stream",
     "text": [
      "Получен запрос: Сочи\n"
     ]
    },
    {
     "ename": "NameError",
     "evalue": "name 'time' is not defined",
     "output_type": "error",
     "traceback": [
      "\u001B[0;31m---------------------------------------------------------------------------\u001B[0m",
      "\u001B[0;31mNameError\u001B[0m                                 Traceback (most recent call last)",
      "Cell \u001B[0;32mIn[2], line 1\u001B[0m\n\u001B[0;32m----> 1\u001B[0m \u001B[43mget_data_from_database\u001B[49m\u001B[43m(\u001B[49m\u001B[38;5;124;43m\"\u001B[39;49m\u001B[38;5;124;43mСочи\u001B[39;49m\u001B[38;5;124;43m\"\u001B[39;49m\u001B[43m)\u001B[49m\n\u001B[1;32m      2\u001B[0m get_data_from_database(\u001B[38;5;124m\"\u001B[39m\u001B[38;5;124mДубай\u001B[39m\u001B[38;5;124m\"\u001B[39m)\n",
      "Cell \u001B[0;32mIn[1], line 4\u001B[0m, in \u001B[0;36mget_data_from_database\u001B[0;34m(query)\u001B[0m\n\u001B[1;32m      2\u001B[0m \u001B[38;5;28mprint\u001B[39m(\u001B[38;5;124mf\u001B[39m\u001B[38;5;124m\"\u001B[39m\u001B[38;5;124mПолучен запрос: \u001B[39m\u001B[38;5;132;01m{\u001B[39;00mquery\u001B[38;5;132;01m}\u001B[39;00m\u001B[38;5;124m\"\u001B[39m)\n\u001B[1;32m      3\u001B[0m \u001B[38;5;28;01mif\u001B[39;00m query \u001B[38;5;241m==\u001B[39m \u001B[38;5;124m\"\u001B[39m\u001B[38;5;124mСочи\u001B[39m\u001B[38;5;124m\"\u001B[39m:\n\u001B[0;32m----> 4\u001B[0m     \u001B[43mtime\u001B[49m\u001B[38;5;241m.\u001B[39msleep(\u001B[38;5;241m4\u001B[39m)\n\u001B[1;32m      5\u001B[0m \u001B[38;5;28;01melif\u001B[39;00m query \u001B[38;5;241m==\u001B[39m \u001B[38;5;124m\"\u001B[39m\u001B[38;5;124mДубай\u001B[39m\u001B[38;5;124m\"\u001B[39m:\n\u001B[1;32m      6\u001B[0m     time\u001B[38;5;241m.\u001B[39msleep(\u001B[38;5;241m2\u001B[39m)\n",
      "\u001B[0;31mNameError\u001B[0m: name 'time' is not defined"
     ]
    }
   ],
   "execution_count": 2
  },
  {
   "metadata": {},
   "cell_type": "code",
   "outputs": [],
   "execution_count": null,
   "source": [
    "async def get_data_from_database_async(query: str):\n",
    "    print(f\"Получен запрос: {query}\")\n",
    "    if query == \"Сочи\":\n",
    "        await asyncio.sleep(4)\n",
    "    elif query == \"Дубай\":\n",
    "        await asyncio.sleep(2)\n",
    "    print(f\"Данные получены: {query}\")\n",
    "    return \"Results\""
   ],
   "id": "8957cc35290b0b21"
  },
  {
   "metadata": {},
   "cell_type": "code",
   "outputs": [],
   "execution_count": null,
   "source": [
    "await get_data_from_database_async(\"Сочи\")\n",
    "await get_data_from_database_async(\"Дубай\")"
   ],
   "id": "3eb63e61e716a1f7"
  },
  {
   "metadata": {},
   "cell_type": "code",
   "outputs": [],
   "execution_count": null,
   "source": [
    "await asyncio.gather(\n",
    "    get_data_from_database_async(\"Сочи\"),\n",
    "    get_data_from_database_async(\"Сочи\"),\n",
    "    get_data_from_database_async(\"Сочи\"),\n",
    "    get_data_from_database_async(\"Сочи\"),\n",
    "    get_data_from_database_async(\"Сочи\"),\n",
    "    get_data_from_database_async(\"Сочи\"),\n",
    "    get_data_from_database_async(\"Дубай\"),\n",
    "    get_data_from_database_async(\"Дубай\"),\n",
    "    get_data_from_database_async(\"Дубай\"),\n",
    "    get_data_from_database_async(\"Дубай\"),\n",
    ")"
   ],
   "id": "26c7ab71f7ac4a3d"
  },
  {
   "metadata": {},
   "cell_type": "code",
   "outputs": [],
   "execution_count": null,
   "source": [
    "task1 = asyncio.create_task(get_data_from_database_async(\"Сочи\"))\n",
    "task2 = asyncio.create_task(get_data_from_database_async(\"Дубай\"))"
   ],
   "id": "a189669bba479239"
  }
 ],
 "metadata": {
  "kernelspec": {
   "display_name": "Python 3",
   "language": "python",
   "name": "python3"
  },
  "language_info": {
   "codemirror_mode": {
    "name": "ipython",
    "version": 2
   },
   "file_extension": ".py",
   "mimetype": "text/x-python",
   "name": "python",
   "nbconvert_exporter": "python",
   "pygments_lexer": "ipython2",
   "version": "2.7.6"
  }
 },
 "nbformat": 4,
 "nbformat_minor": 5
}
